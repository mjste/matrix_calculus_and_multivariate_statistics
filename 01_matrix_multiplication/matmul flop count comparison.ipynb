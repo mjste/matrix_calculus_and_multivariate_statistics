{
 "cells": [
  {
   "cell_type": "code",
   "execution_count": 1,
   "id": "initial_id",
   "metadata": {
    "collapsed": true,
    "ExecuteTime": {
     "end_time": "2024-03-08T14:00:45.912405Z",
     "start_time": "2024-03-08T14:00:45.905556Z"
    }
   },
   "outputs": [],
   "source": [
    "from matmul import multiply_matrices, binet_multiplication, strassen_multiplication\n",
    "import numpy as np\n",
    "import seaborn as sns\n",
    "import pandas as pd\n",
    "import matplotlib.pyplot as plt"
   ]
  },
  {
   "cell_type": "code",
   "execution_count": null,
   "outputs": [],
   "source": [
    "normal_adds = []\n",
    "binet_adds = []\n",
    "strassen_adds = []\n",
    "normal_muls = []\n",
    "binet_muls = []\n",
    "strassen_muls = []\n",
    "matrix_sizes = []\n",
    "exponents = list(range(2, 10))\n",
    "\n",
    "for exp in list(exponents):\n",
    "    print(exp, end=\" \\r\")\n",
    "    A = np.random.rand(2**exp, 2**exp).tolist()\n",
    "    B = np.random.rand(2**exp, 2**exp).tolist()\n",
    "\n",
    "    matrix_sizes.append(2**exp)\n",
    "    _, adds, muls = multiply_matrices(A, B)\n",
    "    normal_adds.append(adds)\n",
    "    normal_muls.append(muls)\n",
    "    _, adds, muls = binet_multiplication(A, B)\n",
    "    binet_adds.append(adds)\n",
    "    binet_muls.append(muls)\n",
    "    _, adds, muls = strassen_multiplication(A, B)\n",
    "    strassen_adds.append(adds)\n",
    "    strassen_muls.append(muls)"
   ],
   "metadata": {
    "collapsed": false
   },
   "id": "ce6962e82bccc991"
  },
  {
   "cell_type": "code",
   "execution_count": 1,
   "outputs": [
    {
     "ename": "NameError",
     "evalue": "name 'pd' is not defined",
     "output_type": "error",
     "traceback": [
      "\u001B[0;31m---------------------------------------------------------------------------\u001B[0m",
      "\u001B[0;31mNameError\u001B[0m                                 Traceback (most recent call last)",
      "Cell \u001B[0;32mIn[1], line 1\u001B[0m\n\u001B[0;32m----> 1\u001B[0m results  \u001B[38;5;241m=\u001B[39m \u001B[43mpd\u001B[49m\u001B[38;5;241m.\u001B[39mDataFrame(\n\u001B[1;32m      2\u001B[0m     index\u001B[38;5;241m=\u001B[39mexponents,\n\u001B[1;32m      3\u001B[0m     data\u001B[38;5;241m=\u001B[39m{\n\u001B[1;32m      4\u001B[0m         \u001B[38;5;124m'\u001B[39m\u001B[38;5;124mnormal adds\u001B[39m\u001B[38;5;124m'\u001B[39m: normal_adds,\n\u001B[1;32m      5\u001B[0m         \u001B[38;5;124m'\u001B[39m\u001B[38;5;124mbinet adds\u001B[39m\u001B[38;5;124m'\u001B[39m: binet_adds,\n\u001B[1;32m      6\u001B[0m         \u001B[38;5;124m'\u001B[39m\u001B[38;5;124mstrassen adds\u001B[39m\u001B[38;5;124m'\u001B[39m: strassen_adds,\n\u001B[1;32m      7\u001B[0m         \u001B[38;5;124m'\u001B[39m\u001B[38;5;124mnormal muls\u001B[39m\u001B[38;5;124m'\u001B[39m: normal_muls,\n\u001B[1;32m      8\u001B[0m         \u001B[38;5;124m'\u001B[39m\u001B[38;5;124mbinet muls\u001B[39m\u001B[38;5;124m'\u001B[39m: binet_muls,\n\u001B[1;32m      9\u001B[0m         \u001B[38;5;124m'\u001B[39m\u001B[38;5;124mstrassen muls\u001B[39m\u001B[38;5;124m'\u001B[39m: strassen_muls\n\u001B[1;32m     10\u001B[0m     }\n\u001B[1;32m     11\u001B[0m )\n\u001B[1;32m     12\u001B[0m sns\u001B[38;5;241m.\u001B[39mlineplot(results)\n\u001B[1;32m     13\u001B[0m plt\u001B[38;5;241m.\u001B[39myscale(\u001B[38;5;124m'\u001B[39m\u001B[38;5;124mlog\u001B[39m\u001B[38;5;124m'\u001B[39m)\n",
      "\u001B[0;31mNameError\u001B[0m: name 'pd' is not defined"
     ]
    }
   ],
   "source": [
    "results  = pd.DataFrame(\n",
    "    index=exponents,\n",
    "    data={\n",
    "        'normal adds': normal_adds,\n",
    "        'binet adds': binet_adds,\n",
    "        'strassen adds': strassen_adds,\n",
    "        'normal muls': normal_muls,\n",
    "        'binet muls': binet_muls,\n",
    "        'strassen muls': strassen_muls\n",
    "    }\n",
    ")\n",
    "sns.lineplot(results)\n",
    "plt.yscale('log')\n",
    "plt.xticks(exponents, matrix_sizes, minor=False)\n",
    "plt.xlabel('Matrix size')\n",
    "plt.ylabel('Count')"
   ],
   "metadata": {
    "collapsed": false,
    "ExecuteTime": {
     "end_time": "2024-03-18T21:56:36.409862Z",
     "start_time": "2024-03-18T21:56:36.214722Z"
    }
   },
   "id": "fc171b1a750a5de2"
  },
  {
   "cell_type": "code",
   "execution_count": null,
   "outputs": [],
   "source": [],
   "metadata": {
    "collapsed": false
   },
   "id": "bebc96359d5fed76"
  }
 ],
 "metadata": {
  "kernelspec": {
   "display_name": "Python 3",
   "language": "python",
   "name": "python3"
  },
  "language_info": {
   "codemirror_mode": {
    "name": "ipython",
    "version": 2
   },
   "file_extension": ".py",
   "mimetype": "text/x-python",
   "name": "python",
   "nbconvert_exporter": "python",
   "pygments_lexer": "ipython2",
   "version": "2.7.6"
  }
 },
 "nbformat": 4,
 "nbformat_minor": 5
}
